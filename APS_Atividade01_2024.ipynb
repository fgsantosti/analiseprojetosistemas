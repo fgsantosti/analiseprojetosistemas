{
  "nbformat": 4,
  "nbformat_minor": 0,
  "metadata": {
    "colab": {
      "provenance": [],
      "authorship_tag": "ABX9TyNUNZZT2K3H3PkThr/1qb0n",
      "include_colab_link": true
    },
    "kernelspec": {
      "name": "python3",
      "display_name": "Python 3"
    },
    "language_info": {
      "name": "python"
    }
  },
  "cells": [
    {
      "cell_type": "markdown",
      "metadata": {
        "id": "view-in-github",
        "colab_type": "text"
      },
      "source": [
        "<a href=\"https://colab.research.google.com/github/fgsantosti/analiseprojetosistemas/blob/main/APS_Atividade01_2024.ipynb\" target=\"_parent\"><img src=\"https://colab.research.google.com/assets/colab-badge.svg\" alt=\"Open In Colab\"/></a>"
      ]
    },
    {
      "cell_type": "markdown",
      "source": [
        "**Atividade de Modelagem de Sistema: IA Bets**\n",
        "\n",
        "### **Descrição da Atividade**\n",
        "Você deverá criar dois diagramas para o sistema **IA Bets**: **Diagrama de Casos de Uso** e **Diagrama de Classes**. O sistema tem como objetivo analisar dados dos times do Brasileirão e dos últimos 5 jogos de cada clube, fornecendo uma probabilidade para o sexto jogo.\n",
        "\n",
        "Os diagramas serão desenvolvidos utilizando a ferramenta **Lucidchart, Enterprise Architect ou StarUML**, e o arquivo final deverá ser enviado no **Google Sala de Aula**.\n",
        "\n",
        "---\n",
        "\n",
        "### **Requisitos do Sistema IA Bets**\n",
        "1. O sistema deverá **coletar dados dos times do Brasileirão** (ex.: classificação, desempenho, saldo de gols, etc.).\n",
        "2. O sistema deverá **analisar os resultados dos últimos 5 jogos de um time**.\n",
        "3. O sistema deverá calcular uma **probabilidade de vitória, empate ou derrota para o próximo jogo (sexto jogo)**.\n",
        "4. O sistema terá dois tipos de usuários:\n",
        "   - **Apostador**: Pode consultar estatísticas e visualizar probabilidades.\n",
        "   - **Administrador**: Responsável por atualizar os dados dos times e dos jogos.\n",
        "5. O sistema deverá incluir funcionalidades de autenticação (login e senha).\n",
        "\n",
        "---\n",
        "\n",
        "### **Tarefas**\n",
        "1. **Diagrama de Casos de Uso**:\n",
        "   - Identifique e modele os atores do sistema (ex.: Apostador, Administrador).\n",
        "   - Modele os casos de uso com base nas funcionalidades descritas nos requisitos.\n",
        "   - Relacione atores e casos de uso através de associações, generalizações e relacionamentos como *Include* ou *Extend* (quando necessário).\n",
        "\n",
        "2. **Diagrama de Classes**:\n",
        "   - Identifique as classes principais do sistema com base nos requisitos (ex.: Time, Jogo, Probabilidade, Usuário).\n",
        "   - Especifique os atributos e métodos de cada classe.\n",
        "   - Mostre os relacionamentos entre as classes, como associações, herança e composição/agregação.\n",
        "\n",
        "---\n",
        "\n",
        "### **Ferramenta a ser Utilizada**\n",
        "- Utilize o **Lucidchart** para desenvolver os diagramas.\n",
        "- Caso ainda não tenha uma conta, você pode criar uma gratuitamente ou utilizar a versão educacional.\n",
        "\n",
        "---\n",
        "\n",
        "### **Entrega**\n",
        "- Faça o upload dos dois diagramas (em PDF ou imagem) na tarefa criada no **Google Sala de Aula**.\n",
        "- Nomeie os arquivos como: `DiagramaCasoUso_NomeSobrenome` e `DiagramaClasse_NomeSobrenome`.\n",
        "- Prazo: **Data de Entrega** (a ser definida pelo professor).\n",
        "\n",
        "---\n",
        "\n",
        "### **Critérios de Avaliação**\n",
        "1. **Diagrama de Casos de Uso** (50 pontos):\n",
        "   - Identificação correta de atores e casos de uso.\n",
        "   - Clareza e organização do diagrama.\n",
        "   - Uso adequado de relacionamentos (*Include*, *Extend*, associações, etc.).\n",
        "\n",
        "2. **Diagrama de Classes** (50 pontos):\n",
        "   - Modelagem adequada das classes, atributos e métodos.\n",
        "   - Relacionamentos consistentes entre as classes (ex.: herança, associação, composição).\n",
        "   - Nomes descritivos para classes, atributos e métodos.\n",
        "\n",
        "---\n",
        "\n",
        "### **Dúvidas?**\n",
        "Se tiver alguma dúvida sobre a atividade ou como utilizar o Lucidchart, entre em contato pelo **Google Sala de Aula** ou pelo e-mail institucional."
      ],
      "metadata": {
        "id": "IK4oAETSR_U4"
      }
    },
    {
      "cell_type": "markdown",
      "source": [],
      "metadata": {
        "id": "zANJDTlWSEyY"
      }
    }
  ]
}