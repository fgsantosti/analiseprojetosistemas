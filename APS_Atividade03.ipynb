{
  "nbformat": 4,
  "nbformat_minor": 0,
  "metadata": {
    "colab": {
      "provenance": [],
      "authorship_tag": "ABX9TyPhSHjKxYj4zVJ6JrD1Ez2W",
      "include_colab_link": true
    },
    "kernelspec": {
      "name": "python3",
      "display_name": "Python 3"
    },
    "language_info": {
      "name": "python"
    }
  },
  "cells": [
    {
      "cell_type": "markdown",
      "metadata": {
        "id": "view-in-github",
        "colab_type": "text"
      },
      "source": [
        "<a href=\"https://colab.research.google.com/github/fgsantosti/analiseprojetosistemas/blob/main/APS_Atividade03.ipynb\" target=\"_parent\"><img src=\"https://colab.research.google.com/assets/colab-badge.svg\" alt=\"Open In Colab\"/></a>"
      ]
    },
    {
      "cell_type": "markdown",
      "source": [
        "### **Atividade de Sala de Aula: Diagrama de Sequência (1h)**\n",
        "\n",
        "#### **Objetivo da Atividade**\n",
        "Consolidar o entendimento dos conceitos do **Diagrama de Sequência** na UML, colocando em prática os seguintes elementos:\n",
        "- **Lifelines**.\n",
        "- **Mensagens** (entre atores, entre lifelines, de retorno, construtoras, destrutoras, autochamadas e assíncronas).\n",
        "- **Restrições de duração**.\n",
        "\n",
        "---\n",
        "\n",
        "#### **Descrição da Atividade**\n",
        "Os alunos deverão criar um **Diagrama de Sequência** para representar o fluxo de interação em um sistema de agendamento de consultas médicas chamado **\"MediSched\"**.\n",
        "\n",
        "---\n",
        "\n",
        "### **Cenário do Sistema MediSched**\n",
        "O sistema **MediSched** é usado por pacientes, médicos e recepcionistas para gerenciar consultas médicas. O fluxo básico é o seguinte:\n",
        "\n",
        "1. **Paciente** acessa o sistema e solicita a marcação de uma consulta.\n",
        "2. O **sistema** verifica a disponibilidade do médico.\n",
        "3. Caso o horário esteja disponível:\n",
        "   - O sistema registra a consulta.\n",
        "   - Envia uma mensagem de confirmação para o paciente.\n",
        "4. Caso contrário, o sistema notifica o paciente da indisponibilidade.\n",
        "5. O paciente pode cancelar uma consulta, caso necessário.\n",
        "\n",
        "---\n",
        "\n",
        "### **Tarefas**\n",
        "1. **Criação do Diagrama de Sequência**:\n",
        "   - Modele o fluxo do sistema considerando:\n",
        "     - **Atores**: Paciente e Médico.\n",
        "     - **Lifelines**: Sistema e Banco de Dados.\n",
        "     - **Mensagens**:\n",
        "       - Mensagens entre o Paciente e o Sistema (solicitação de consulta, cancelamento).\n",
        "       - Mensagens entre o Sistema e o Banco de Dados (consulta de disponibilidade, registro de consulta).\n",
        "       - Mensagem de retorno ao Paciente (confirmação ou notificação de indisponibilidade).\n",
        "       - Autochamada para validação interna de dados (se necessário).\n",
        "       - Mensagem destrutora ao finalizar o fluxo (opcional).\n",
        "   - Adicione uma **restrição de duração** indicando o tempo limite para resposta do banco de dados ao sistema.\n",
        "\n",
        "2. **Ferramenta para Modelagem**:\n",
        "   - Utilize ferramentas como Lucidchart, StarUML ou qualquer editor UML para criar o diagrama.\n",
        "   - Nomeie as mensagens de forma clara e objetiva.\n",
        "\n",
        "3. **Entrega**:\n",
        "   - Salve o diagrama como PDF ou imagem e envie no **Google Sala de Aula** ao final da aula.\n",
        "\n",
        "---\n",
        "\n",
        "### **Exemplo Simplificado**\n",
        "Segue uma descrição textual de como o diagrama pode ser modelado:\n",
        "\n",
        "1. **Paciente** envia uma mensagem para a lifeline **Sistema**: `solicitarConsulta(dadosConsulta)`.\n",
        "2. **Sistema** envia uma mensagem construtora para a lifeline **Banco de Dados**: `verificarDisponibilidade(medico, horario)`.\n",
        "3. **Banco de Dados** responde ao **Sistema**:\n",
        "   - Se disponível: `horarioDisponivel()`.\n",
        "   - Se não disponível: `horarioIndisponivel()`.\n",
        "4. Caso disponível:\n",
        "   - **Sistema** envia mensagem construtora para registrar a consulta: `registrarConsulta(dados)`.\n",
        "   - **Sistema** retorna ao **Paciente**: `confirmacaoConsulta(dadosConsulta)`.\n",
        "5. Caso não disponível:\n",
        "   - **Sistema** retorna ao **Paciente**: `notificarIndisponibilidade()`.\n",
        "\n",
        "---\n",
        "\n",
        "\n",
        "### **Critérios de Avaliação**\n",
        "- **Correção do Diagrama (50%)**:\n",
        "  - Representação adequada das lifelines e mensagens.\n",
        "  - Uso correto de mensagens (construtoras, destrutoras, etc.).\n",
        "- **Clareza e Organização (30%)**:\n",
        "  - Diagrama organizado, legível e com nomenclatura adequada.\n",
        "- **Uso de Restrições e Autochamadas (20%)**:\n",
        "  - Inclusão de elementos como restrições de duração ou autochamadas, quando necessário.\n",
        "\n",
        "---\n",
        "\n",
        "### **Dica para os Alunos**\n",
        "- Pense no **Diagrama de Sequência** como um roteiro do fluxo de mensagens no sistema.\n",
        "- Use flechas claras para diferenciar mensagens síncronas, assíncronas e de retorno.\n",
        "- Verifique se todos os atores e elementos do cenário estão devidamente representados no diagrama.\n",
        "\n",
        "Essa atividade permitirá que os alunos pratiquem a criação de **Diagramas de Sequência**, aplicando os conceitos vistos em aula a um cenário realista e objetivo."
      ],
      "metadata": {
        "id": "Ywf9g0N49sBS"
      }
    }
  ]
}