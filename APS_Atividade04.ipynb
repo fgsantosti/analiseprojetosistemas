{
  "nbformat": 4,
  "nbformat_minor": 0,
  "metadata": {
    "colab": {
      "provenance": [],
      "authorship_tag": "ABX9TyOd8Z/1X6YPbNYIdFD2GI5s",
      "include_colab_link": true
    },
    "kernelspec": {
      "name": "python3",
      "display_name": "Python 3"
    },
    "language_info": {
      "name": "python"
    }
  },
  "cells": [
    {
      "cell_type": "markdown",
      "metadata": {
        "id": "view-in-github",
        "colab_type": "text"
      },
      "source": [
        "<a href=\"https://colab.research.google.com/github/fgsantosti/analiseprojetosistemas/blob/main/APS_Atividade04.ipynb\" target=\"_parent\"><img src=\"https://colab.research.google.com/assets/colab-badge.svg\" alt=\"Open In Colab\"/></a>"
      ]
    },
    {
      "cell_type": "markdown",
      "source": [
        "### **Atividade de Sala de Aula: Diagrama de Atividade (1h)**\n",
        "\n",
        "#### **Objetivo da Atividade**\n",
        "Consolidar o aprendizado sobre o **Diagrama de Atividade** na UML, aplicando os seguintes conceitos:\n",
        "- **Símbolos básicos**: nó inicial, nó de ação, nó de decisão, bifurcação, sincronização, fluxo final.\n",
        "- Representação do **fluxo de controle** de um processo.\n",
        "- Aplicação prática em um cenário realista.\n",
        "\n",
        "---\n",
        "\n",
        "### **Descrição da Atividade**\n",
        "Os alunos deverão criar um **Diagrama de Atividade** para modelar o fluxo de trabalho de um sistema de empréstimo de livros chamado **\"BookLoan\"**, utilizado em bibliotecas.\n",
        "\n",
        "---\n",
        "\n",
        "### **Cenário do Sistema BookLoan**\n",
        "O sistema **BookLoan** gerencia o processo de empréstimo de livros, que funciona da seguinte forma:\n",
        "\n",
        "1. **Solicitação de Empréstimo**:\n",
        "   - O usuário acessa o sistema e solicita um livro.\n",
        "\n",
        "2. **Verificação de Disponibilidade**:\n",
        "   - O sistema verifica se o livro está disponível.\n",
        "   - Se **sim**, segue para o registro do empréstimo.\n",
        "   - Se **não**, o sistema informa ao usuário que o livro está indisponível.\n",
        "\n",
        "3. **Registro do Empréstimo**:\n",
        "   - O sistema registra os dados do empréstimo (usuário, livro e data de devolução).\n",
        "\n",
        "4. **Processo de Devolução**:\n",
        "   - Após o prazo, o usuário devolve o livro.\n",
        "   - O sistema verifica se a devolução está no prazo:\n",
        "     - Se **sim**, finaliza o processo.\n",
        "     - Se **não**, gera uma multa e finaliza o processo.\n",
        "\n",
        "---\n",
        "\n",
        "### **Tarefas**\n",
        "1. **Criação do Diagrama de Atividade**:\n",
        "   - Modele o processo descrito acima utilizando:\n",
        "     - **Símbolos básicos**: nó inicial, ações, fluxos de controle, nós de decisão, bifurcação, sincronização, fluxo final.\n",
        "     - Elementos do fluxo, como decisão para verificar a disponibilidade do livro e prazo de devolução.\n",
        "\n",
        "2. **Ferramenta para Modelagem**:\n",
        "   - Utilize ferramentas como Lucidchart, StarUML ou qualquer editor UML para criar o diagrama.\n",
        "\n",
        "3. **Entrega**:\n",
        "   - Salve o diagrama como PDF ou imagem e envie no **Google Sala de Aula** ao final da aula.\n",
        "\n",
        "---\n",
        "\n",
        "\n",
        "### **Critérios de Avaliação**\n",
        "- **Organização do Diagrama (40%)**:\n",
        "  - Uso correto dos símbolos básicos.\n",
        "  - Fluxo claro e bem estruturado.\n",
        "- **Coerência do Processo (40%)**:\n",
        "  - Representação fiel ao fluxo descrito no cenário.\n",
        "- **Criatividade e Clareza Visual (20%)**:\n",
        "  - Uso de elementos visuais para tornar o diagrama mais claro e informativo.\n",
        "\n",
        "---\n",
        "\n",
        "### **Dica para os Alunos**\n",
        "- Pense no diagrama como um mapa do processo: cada passo deve levar ao próximo de maneira lógica e clara.\n",
        "- Verifique se todas as possibilidades (ex.: livro indisponível ou devolução atrasada) estão representadas no diagrama.\n",
        "\n",
        "Essa atividade reforça os conceitos apresentados em aula e promove o desenvolvimento de habilidades práticas em modelagem UML."
      ],
      "metadata": {
        "id": "uZ4vniTbIqJX"
      }
    }
  ]
}