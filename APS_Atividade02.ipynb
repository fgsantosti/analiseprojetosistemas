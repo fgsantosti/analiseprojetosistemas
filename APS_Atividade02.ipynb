{
  "nbformat": 4,
  "nbformat_minor": 0,
  "metadata": {
    "colab": {
      "provenance": [],
      "authorship_tag": "ABX9TyM6hENBVTH3c2izHd65EY0n",
      "include_colab_link": true
    },
    "kernelspec": {
      "name": "python3",
      "display_name": "Python 3"
    },
    "language_info": {
      "name": "python"
    }
  },
  "cells": [
    {
      "cell_type": "markdown",
      "metadata": {
        "id": "view-in-github",
        "colab_type": "text"
      },
      "source": [
        "<a href=\"https://colab.research.google.com/github/fgsantosti/analiseprojetosistemas/blob/main/APS_Atividade02.ipynb\" target=\"_parent\"><img src=\"https://colab.research.google.com/assets/colab-badge.svg\" alt=\"Open In Colab\"/></a>"
      ]
    },
    {
      "cell_type": "markdown",
      "source": [
        "### **Atividade de Sala de Aula: Diagrama de Pacotes (1 hora)**\n",
        "\n",
        "#### **Objetivo da Atividade**\n",
        "Aprofundar o entendimento sobre o **Diagrama de Pacotes** no contexto da UML, utilizando conceitos como **pacotes**, **dependência**, **estereótipos** e a **representação de camadas do modelo por meio de pacotes**.\n",
        "\n",
        "---\n",
        "\n",
        "#### **Descrição da Atividade**\n",
        "Os alunos devem desenvolver um **Diagrama de Pacotes** que represente um sistema de **e-commerce** fictício chamado **\"ShopOnline\"**. O sistema deve ser organizado em pacotes, levando em consideração:\n",
        "- Divisão de funcionalidades em pacotes organizados por camadas (Ex.: domínio, aplicação, infraestrutura).\n",
        "- Representação de **dependências** entre pacotes.\n",
        "- Uso de **estereótipos** para categorizar os pacotes de forma clara.\n",
        "\n",
        "---\n",
        "\n",
        "### **Sistema ShopOnline: Descrição**\n",
        "O **ShopOnline** é um sistema de e-commerce que possui as seguintes funcionalidades:\n",
        "1. **Camada de Interface com o Usuário (UI)**:\n",
        "   - Exibição de catálogos de produtos.\n",
        "   - Gerenciamento de carrinho de compras.\n",
        "   - Finalização de pedidos.\n",
        "\n",
        "2. **Camada de Domínio**:\n",
        "   - Representação de entidades como Produto, Cliente e Pedido.\n",
        "   - Regras de negócio, como cálculo de frete e promoções.\n",
        "\n",
        "3. **Camada de Persistência**:\n",
        "   - Gerenciamento do banco de dados (armazenamento de produtos, clientes e pedidos).\n",
        "   - Acesso a repositórios para consulta de dados.\n",
        "\n",
        "4. **Camada de Infraestrutura**:\n",
        "   - Integração com sistemas externos, como serviços de pagamento e APIs de transportadoras.\n",
        "   - Configurações de autenticação e logs.\n",
        "\n",
        "---\n",
        "\n",
        "### **Tarefas**\n",
        "1. **Criação do Diagrama de Pacotes**:\n",
        "   - Organize o sistema em **pacotes** de acordo com as camadas descritas acima.\n",
        "   - Inclua os relacionamentos de **dependência** entre os pacotes. Por exemplo, a camada de interface com o usuário (UI) depende da camada de domínio.\n",
        "   - Utilize **estereótipos** para categorizar os pacotes (ex.: `<<UI>>`, `<<Domínio>>`, `<<Persistência>>`, `<<Infraestrutura>>`).\n",
        "\n",
        "2. **Instruções para a Ferramenta**:\n",
        "   - Utilize o Lucidchart, StarUML ou outra ferramenta de modelagem UML para criar o diagrama.\n",
        "   - Nomeie os pacotes de forma clara e consistente.\n",
        "\n",
        "3. **Entrega**:\n",
        "   - Salve o diagrama como imagem ou PDF.\n",
        "   - Envie no Google Sala de Aula até o final da aula.\n",
        "\n",
        "---\n",
        "\n",
        "\n",
        "### **Critérios de Avaliação**\n",
        "- Organização do diagrama: divisão clara por pacotes e camadas (40%).\n",
        "- Correção das dependências entre pacotes (30%).\n",
        "- Uso apropriado de estereótipos (20%).\n",
        "- Clareza na representação visual (10%).\n",
        "\n",
        "---\n",
        "\n",
        "### **Dica para os Alunos**\n",
        "- Pensem nas camadas como níveis de responsabilidade do sistema: **interface** interage com o usuário, **domínio** contém as regras, **persistência** armazena dados e **infraestrutura** conecta o sistema com serviços externos.\n",
        "\n",
        "Essa atividade prática ajudará os alunos a consolidarem os conceitos sobre **Diagramas de Pacotes** e sua importância na organização de sistemas complexos."
      ],
      "metadata": {
        "id": "MTqirOFpwhq1"
      }
    },
    {
      "cell_type": "markdown",
      "source": [],
      "metadata": {
        "id": "R7f9-tXrwuUl"
      }
    }
  ]
}