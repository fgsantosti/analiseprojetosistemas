{
  "nbformat": 4,
  "nbformat_minor": 0,
  "metadata": {
    "colab": {
      "provenance": [],
      "authorship_tag": "ABX9TyNJSLhy4ZrZHcd3LgCAk6fA",
      "include_colab_link": true
    },
    "kernelspec": {
      "name": "python3",
      "display_name": "Python 3"
    },
    "language_info": {
      "name": "python"
    }
  },
  "cells": [
    {
      "cell_type": "markdown",
      "metadata": {
        "id": "view-in-github",
        "colab_type": "text"
      },
      "source": [
        "<a href=\"https://colab.research.google.com/github/fgsantosti/analiseprojetosistemas/blob/main/APS_Cap%C3%ADtulo01.ipynb\" target=\"_parent\"><img src=\"https://colab.research.google.com/assets/colab-badge.svg\" alt=\"Open In Colab\"/></a>"
      ]
    },
    {
      "cell_type": "markdown",
      "source": [
        "Na introdução ao desenvolvimento de software, é fundamental entender os conceitos básicos, os papéis envolvidos e a evolução das metodologias. Aqui está uma visão detalhada dos tópicos:\n",
        "\n",
        "### 1. **Definição e Histórico do Desenvolvimento de Software**\n",
        "   - **Desenvolvimento de Software** refere-se ao processo de concepção, especificação, design, programação, teste e manutenção de aplicativos ou sistemas. O objetivo é atender a uma necessidade ou resolver um problema específico usando software.\n",
        "   - **Histórico**: O desenvolvimento de software evoluiu significativamente ao longo das décadas:\n",
        "     - **Anos 1960-1980**: Surgimento das primeiras metodologias de engenharia de software. Foco em modelos sequenciais, como o **Modelo em Cascata (Waterfall)**.\n",
        "     - **Anos 1990**: Adoção de novas abordagens como o **RUP (Rational Unified Process)**, introduzindo iterações curtas e desenvolvimento incremental.\n",
        "     - **Anos 2000**: Revolução com as **Metodologias Ágeis**, priorizando a flexibilidade, colaboração e entregas frequentes.\n",
        "     - **Hoje**: Integração de práticas como **DevOps**, automação e entrega contínua para acelerar o desenvolvimento.\n",
        "\n",
        "### 2. **Papéis de Analista e Projetista de Sistemas**\n",
        "   - **Analista de Sistemas**:\n",
        "     - Atua na ponte entre os **requisitos do negócio** e o desenvolvimento técnico.\n",
        "     - Suas responsabilidades incluem a **definição de requisitos**, análise de processos e proposta de soluções tecnológicas.\n",
        "     - Trabalha diretamente com clientes, gestores e desenvolvedores para garantir que o sistema atenda às necessidades funcionais e não funcionais.\n",
        "   \n",
        "   - **Projetista de Sistemas (Arquitetura)**:\n",
        "     - Foca no **design do sistema**, definindo como os componentes interagem.\n",
        "     - Responsável por definir a **arquitetura de software**, incluindo padrões de design, organização de código e estrutura de dados.\n",
        "     - Deve garantir que o sistema seja escalável, robusto e mantenível.\n",
        "     - Geralmente, colabora com o analista de sistemas para garantir que as soluções projetadas possam ser implementadas de maneira eficaz.\n",
        "\n",
        "### 3. **O Ciclo de Vida do Software Tradicional vs. Ágil**\n",
        "   - **Ciclo de Vida Tradicional (Modelo Cascata)**:\n",
        "     - **Modelo em cascata** é um processo linear, onde cada fase precisa ser concluída antes que a próxima possa começar. As fases incluem:\n",
        "       1. **Requisitos**: Definição completa dos requisitos do software.\n",
        "       2. **Design**: Criação de especificações técnicas detalhadas.\n",
        "       3. **Implementação**: Codificação do software.\n",
        "       4. **Teste**: Verificação se o software atende aos requisitos.\n",
        "       5. **Manutenção**: Correções e melhorias após a entrega.\n",
        "     - **Desvantagens**:\n",
        "       - Falta de flexibilidade: mudanças de requisitos no meio do projeto podem ser difíceis de incorporar.\n",
        "       - Grande intervalo entre a definição de requisitos e a entrega final, levando a possíveis desajustes com as necessidades atuais do cliente.\n",
        "\n",
        "   - **Ciclo de Vida Ágil**:\n",
        "     - No desenvolvimento ágil, o foco está em **entregas rápidas**, **interações constantes** e **adaptação às mudanças**. Ciclos curtos de desenvolvimento chamados de **iterações** (ou **sprints** no Scrum) permitem:\n",
        "       1. Desenvolvimento contínuo em pequenos incrementos.\n",
        "       2. Reavaliação frequente dos requisitos e ajustes conforme necessário.\n",
        "       3. Colaboração intensa entre os desenvolvedores, clientes e outras partes interessadas.\n",
        "     - **Principais metodologias ágeis**:\n",
        "       - **Scrum**: Estrutura centrada em sprints, com eventos definidos (como reuniões diárias e revisão de sprint).\n",
        "       - **Kanban**: Sistema visual de gerenciamento de fluxo de trabalho, focado em entregas contínuas.\n",
        "     - **Vantagens**:\n",
        "       - Flexibilidade e capacidade de resposta às mudanças de requisitos.\n",
        "       - Entregas frequentes que proporcionam feedback rápido do cliente.\n",
        "       - Maior envolvimento do cliente e stakeholders ao longo do processo.\n",
        "\n",
        "Esses tópicos fornecem a base para que os alunos compreendam a evolução do desenvolvimento de software e as diferenças cruciais entre os métodos tradicionais e ágeis."
      ],
      "metadata": {
        "id": "bsG9IGNmZZRC"
      }
    }
  ]
}