{
  "nbformat": 4,
  "nbformat_minor": 0,
  "metadata": {
    "colab": {
      "provenance": [],
      "authorship_tag": "ABX9TyPzJLW15ALGgWC4VfVIsFzE",
      "include_colab_link": true
    },
    "kernelspec": {
      "name": "python3",
      "display_name": "Python 3"
    },
    "language_info": {
      "name": "python"
    }
  },
  "cells": [
    {
      "cell_type": "markdown",
      "metadata": {
        "id": "view-in-github",
        "colab_type": "text"
      },
      "source": [
        "<a href=\"https://colab.research.google.com/github/fgsantosti/analiseprojetosistemas/blob/main/An%C3%A1lise_e_Projeto_de_Sistemas.ipynb\" target=\"_parent\"><img src=\"https://colab.research.google.com/assets/colab-badge.svg\" alt=\"Open In Colab\"/></a>"
      ]
    },
    {
      "cell_type": "markdown",
      "source": [
        "\n",
        "### Ementa Atualizada:\n",
        "Modelagem de Software utilizando o paradigma da Orientação a Objetos e abordagens ágeis. Conceitos de Orientação a Objetos, Padrões de Projeto e Arquitetura de Software. Diagramas da UML e integração com metodologias ágeis. Introdução ao DevOps e ao ciclo de vida do desenvolvimento. Arquitetura de Microserviços e padrões de desenvolvimento distribuído. Ferramentas CASE modernas. Estudos de caso com foco em projetos colaborativos e integração contínua.\n",
        "\n",
        "### Plano de Disciplina:\n",
        "#### 1. **Introdução ao Desenvolvimento de Software**\n",
        "   - Definição e histórico do desenvolvimento de software.\n",
        "   - Papéis de analista e projetista de sistemas.\n",
        "   - O ciclo de vida do software tradicional vs. ágil.\n",
        "\n",
        "#### 2. **Conceitos de Orientação a Objetos**\n",
        "   - Classes, objetos, herança, polimorfismo e encapsulamento.\n",
        "   - Padrões de Projeto (Design Patterns) mais utilizados (ex.: Singleton, Factory, Observer).\n",
        "   - Práticas de Clean Code.\n",
        "\n",
        "#### 3. **Modelagem de Software com UML**\n",
        "   - Diagramas estruturais (Diagrama de Classes, Diagrama de Componentes).\n",
        "   - Diagramas comportamentais (Diagrama de Casos de Uso, Diagrama de Sequência, Diagrama de Atividades).\n",
        "   - Modelagem com UML em ambientes ágeis (just enough modeling).\n",
        "\n",
        "#### 4. **Metodologias Ágeis e Gestão de Projetos**\n",
        "   - Scrum: papéis, eventos e artefatos.\n",
        "   - Kanban e gestão visual.\n",
        "   - Integração das práticas ágeis com a modelagem de sistemas.\n",
        "\n",
        "#### 5. **Ferramentas CASE e Automação de Desenvolvimento**\n",
        "   - Ferramentas de modelagem UML (ex.: Enterprise Architect, StarUML).\n",
        "   - Integração com ferramentas de DevOps (ex.: CI/CD, Jenkins, GitLab).\n",
        "   - Ferramentas para controle de versão e colaboração (Git/GitHub).\n",
        "\n",
        "#### 6. **Padrões Arquiteturais e Microserviços**\n",
        "   - Arquitetura de Software: monolítica, orientada a serviços (SOA) e microserviços.\n",
        "   - Padrões arquiteturais (MVC, CQRS, Event-Driven).\n",
        "   - Design de APIs e serviços RESTful.\n",
        "\n",
        "#### 7. **DevOps e Integração Contínua**\n",
        "   - Princípios de DevOps no desenvolvimento de sistemas.\n",
        "   - Integração Contínua e Entrega Contínua (CI/CD).\n",
        "   - Monitoramento e feedback contínuo no ciclo de vida do software.\n",
        "\n",
        "#### 8. **Segurança no Desenvolvimento de Sistemas**\n",
        "   - Princípios de segurança de software.\n",
        "   - Ferramentas e técnicas para incorporar segurança desde o design (ex.: Threat Modeling).\n",
        "   - Boas práticas para prevenção de vulnerabilidades (ex.: OWASP Top 10).\n",
        "\n",
        "#### 9. **Estudo de Casos e Projetos**\n",
        "   - Aplicação prática dos conceitos através de estudos de caso.\n",
        "   - Desenvolvimento colaborativo de projetos de software com equipes multidisciplinares.\n",
        "   - Apresentação e análise de projetos utilizando ferramentas e práticas discutidas.\n",
        "\n",
        "#### 10. **Tendências e Tecnologias Emergentes**\n",
        "   - Desenvolvimento de software em ambientes de computação em nuvem (cloud-native development).\n",
        "   - Low-code/No-code platforms e suas implicações no desenvolvimento.\n",
        "   - Impactos da inteligência artificial no processo de análise e projeto de sistemas.\n",
        "\n",
        "### Avaliação:\n",
        "- **Trabalhos práticos**: Modelagem de sistemas utilizando UML e desenvolvimento de pequenos projetos de software.\n",
        "- **Projeto final**: Desenvolvimento completo de um sistema, desde a análise e design até a entrega e documentação.\n",
        "- **Participação em atividades colaborativas**: Uso de metodologias ágeis e ferramentas de controle de versão.\n",
        "\n",
        "### Bibliografia Sugerida:\n",
        "- Pressman, Roger S. **Engenharia de Software**.\n",
        "- Gamma, Erich et al. **Padrões de Projeto: Soluções Reutilizáveis de Software Orientado a Objetos**.\n",
        "- Fowler, Martin. **UML Distilled: A Brief Guide to the Standard Object Modeling Language**.\n",
        "- Bass, Len, Clements, Paul, e Kazman, Rick. **Software Architecture in Practice**.\n",
        "- Humble, Jez, e Farley, David. **Continuous Delivery: Reliable Software Releases through Build, Test, and Deployment Automation**."
      ],
      "metadata": {
        "id": "ukQ2RD5_Yl1I"
      }
    }
  ]
}